{
 "cells": [
  {
   "cell_type": "code",
   "execution_count": 2,
   "metadata": {},
   "outputs": [],
   "source": [
    "import numpy as np\n",
    "import pandas as pd\n",
    "import matplotlib.pyplot as plt\n",
    "import seaborn as sns \n",
    "import warnings\n",
    "from tqdm import tqdm\n",
    "from datetime import datetime\n",
    "import json\n",
    "from sklearn.preprocessing import LabelEncoder\n"
   ]
  },
  {
   "cell_type": "code",
   "execution_count": 33,
   "metadata": {},
   "outputs": [],
   "source": [
    "def str_to_list(x):\n",
    "    return eval(x) if x and x != '#N/A' else []\n",
    "\n",
    "list_cols = [\n",
    "    'genres',\n",
    "    'belongs_to_collection',\n",
    "    'production_companies',\n",
    "    'production_countries',\n",
    "    'spoken_languages',\n",
    "    'Keywords',\n",
    "    'cast',\n",
    "    'crew'\n",
    "]\n",
    "\n",
    "\n",
    "## set io_params to unfold the JSON-like string to lists\n",
    "io_params = {\n",
    "    'index_col': 'id',\n",
    "    'converters': {col: str_to_list for col in list_cols}\n",
    "}\n",
    "\n",
    "# We can read the train and the test in one go using the concat function\n",
    "# data = pd.read_csv('../data/train.csv', **io_params)\n",
    "data = pd.concat(\n",
    "    objs=(\n",
    "        pd.read_csv('/Users/shenghaoxu/Desktop/DS_Projects/kaggle_box_office/box_office_pred/data/train.csv', **io_params).assign(is_train=True),\n",
    "        pd.read_csv('/Users/shenghaoxu/Desktop/DS_Projects/kaggle_box_office/box_office_pred/data/test.csv', **io_params).assign(is_train=False)\n",
    "    ),\n",
    "    sort=False\n",
    ")\n",
    "# train = pd.read_csv('/Users/shenghaoxu/Desktop/DS_Projects/kaggle_box_office/box_office_pred/data/train.csv', index_col = 'id')\n",
    "# test = pd.read_csv('/Users/shenghaoxu/Desktop/DS_Projects/kaggle_box_office/box_office_pred/data/test.csv', index_col = 'id')\n",
    "\n"
   ]
  },
  {
   "cell_type": "code",
   "execution_count": 41,
   "metadata": {},
   "outputs": [
    {
     "data": {
      "text/plain": [
       "'Hot Tub Time Machine Collection'"
      ]
     },
     "execution_count": 41,
     "metadata": {},
     "output_type": "execute_result"
    }
   ],
   "source": [
    "data[data['is_train']]['belongs_to_collection'][1][0]['name']"
   ]
  },
  {
   "cell_type": "code",
   "execution_count": 21,
   "metadata": {},
   "outputs": [
    {
     "name": "stdout",
     "output_type": "stream",
     "text": [
      "(0, \"[{'id': 313576, 'name': 'Hot Tub Time Machine Collection', 'poster_path': '/iEhb00TGPucF0b4joM1ieyY026U.jpg', 'backdrop_path': '/noeTVcgpBiD48fDjFVic1Vz7ope.jpg'}]\")\n",
      "(1, \"[{'id': 107674, 'name': 'The Princess Diaries Collection', 'poster_path': '/wt5AMbxPTS4Kfjx7Fgm149qPfZl.jpg', 'backdrop_path': '/zSEtYD77pKRJlUPx34BJgUG9v1c.jpg'}]\")\n",
      "(2, nan)\n",
      "(3, nan)\n",
      "(4, nan)\n"
     ]
    }
   ],
   "source": [
    "for i, e in enumerate(train['belongs_to_collection'][:5]):\n",
    "    print(i, e)"
   ]
  },
  {
   "cell_type": "code",
   "execution_count": 46,
   "metadata": {},
   "outputs": [
    {
     "data": {
      "text/plain": [
       "belongs_to_collection    0.798667\n",
       "budget                   0.000000\n",
       "genres                   0.002333\n",
       "homepage                 0.684667\n",
       "imdb_id                  0.000000\n",
       "original_language        0.000000\n",
       "original_title           0.000000\n",
       "overview                 0.002667\n",
       "popularity               0.000000\n",
       "poster_path              0.000333\n",
       "production_companies     0.052000\n",
       "production_countries     0.018333\n",
       "release_date             0.000000\n",
       "runtime                  0.000667\n",
       "spoken_languages         0.006667\n",
       "status                   0.000000\n",
       "tagline                  0.199000\n",
       "title                    0.000000\n",
       "Keywords                 0.092000\n",
       "cast                     0.004333\n",
       "crew                     0.005333\n",
       "revenue                  0.000000\n",
       "dtype: float64"
      ]
     },
     "execution_count": 46,
     "metadata": {},
     "output_type": "execute_result"
    }
   ],
   "source": [
    "train.isna().sum() / len(train)"
   ]
  },
  {
   "cell_type": "code",
   "execution_count": 32,
   "metadata": {},
   "outputs": [
    {
     "data": {
      "text/plain": [
       "\"[{'id': 313576, 'name': 'Hot Tub Time Machine Collection', 'poster_path': '/iEhb00TGPucF0b4joM1ieyY026U.jpg', 'backdrop_path': '/noeTVcgpBiD48fDjFVic1Vz7ope.jpg'}]\""
      ]
     },
     "execution_count": 32,
     "metadata": {},
     "output_type": "execute_result"
    }
   ],
   "source": [
    "train['belongs_to_collection'][1]"
   ]
  },
  {
   "cell_type": "code",
   "execution_count": 43,
   "metadata": {},
   "outputs": [
    {
     "ename": "TypeError",
     "evalue": "len() takes no keyword arguments",
     "output_type": "error",
     "traceback": [
      "\u001b[0;31m---------------------------------------------------------------------------\u001b[0m",
      "\u001b[0;31mTypeError\u001b[0m                                 Traceback (most recent call last)",
      "\u001b[0;32m<ipython-input-43-3195d9d405cd>\u001b[0m in \u001b[0;36m<module>\u001b[0;34m()\u001b[0m\n\u001b[0;32m----> 1\u001b[0;31m \u001b[0mlen\u001b[0m\u001b[0;34m(\u001b[0m\u001b[0mtrain\u001b[0m\u001b[0;34m,\u001b[0m \u001b[0maxis\u001b[0m\u001b[0;34m=\u001b[0m\u001b[0;36m0\u001b[0m\u001b[0;34m)\u001b[0m\u001b[0;34m\u001b[0m\u001b[0m\n\u001b[0m",
      "\u001b[0;31mTypeError\u001b[0m: len() takes no keyword arguments"
     ]
    }
   ],
   "source": []
  },
  {
   "cell_type": "code",
   "execution_count": null,
   "metadata": {},
   "outputs": [],
   "source": []
  }
 ],
 "metadata": {
  "kernelspec": {
   "display_name": "py36_kernel",
   "language": "python",
   "name": "py36"
  },
  "language_info": {
   "codemirror_mode": {
    "name": "ipython",
    "version": 2
   },
   "file_extension": ".py",
   "mimetype": "text/x-python",
   "name": "python",
   "nbconvert_exporter": "python",
   "pygments_lexer": "ipython2",
   "version": "2.7.15"
  }
 },
 "nbformat": 4,
 "nbformat_minor": 2
}
