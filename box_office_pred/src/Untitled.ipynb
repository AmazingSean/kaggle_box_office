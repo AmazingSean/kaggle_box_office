{
 "cells": [
  {
   "cell_type": "code",
   "execution_count": null,
   "metadata": {},
   "outputs": [],
   "source": [
    "import numpy as np\n",
    "import pandas as pd\n",
    "import matplotlib.pyplot as plt\n",
    "import seaborn as sns \n",
    "import warnings\n",
    "from tqdm import tqdm\n",
    "from datetime import datetime\n",
    "import json\n",
    "import plotly.express as px\n",
    "from ast import literal_eval\n",
    "\n",
    "plt.style.use('fivethirtyeight')\n",
    "plt.rcParams['figure.figsize'] = [20, 8]\n"
   ]
  },
  {
   "cell_type": "code",
   "execution_count": null,
   "metadata": {},
   "outputs": [],
   "source": [
    "train = pd.read_csv('../data/train.csv')\n",
    "train.info()"
   ]
  },
  {
   "cell_type": "code",
   "execution_count": null,
   "metadata": {},
   "outputs": [],
   "source": [
    "test = pd.read_csv('../data/test.csv')\n",
    "test.info()"
   ]
  },
  {
   "cell_type": "markdown",
   "metadata": {},
   "source": [
    "#### Thoughts on variables:\n",
    "- A big **budget** does not necessarily leads to a big revenue, money needs to be spent on the right places.\n",
    "- a **language** might not influence the revenue, but the **number of spoken languages** might do. (check if the number of spoken languages influences the revenue)\n",
    "- **popularity** is a floating varible; it does not seem to influence the revenue so I decided to drop it\n",
    "- **Crew** is definitely an very important factor in predicting the box office. I can import some external data to measure the influence of an individual actor/producer, like the number of followers on Twitter.\n",
    "- Does **ratings** of the movies influence revenues?\n"
   ]
  },
  {
   "cell_type": "markdown",
   "metadata": {},
   "source": [
    "#### Unused columns for modeling:\n",
    "- id\n",
    "- imdb_id\n",
    "- original_title\n",
    "- (overview0)\n",
    "- popularity (what is it exactly?)\n",
    "- poster_path"
   ]
  },
  {
   "cell_type": "markdown",
   "metadata": {},
   "source": [
    "### Thoughts about external datasets:\n",
    "- Box offices of movies increasingly rely on their performance in foreign markets; is it possible to integrate the information of foreign market distribution?\n",
    "- Missing budget/revenue data, it can be recovered(scrapped from imdbpro)\n",
    "- "
   ]
  },
  {
   "cell_type": "code",
   "execution_count": null,
   "metadata": {},
   "outputs": [],
   "source": [
    "# drop these columns, for now\n",
    "train = train.drop(columns=['id', 'popularity', 'homepage', 'poster_path', 'status', 'original_title', 'overview', 'tagline'])\n",
    "test = test.drop(columns=['id', 'popularity', 'homepage', 'poster_path', 'status', 'original_title', 'overview', 'tagline'])\n",
    "\n",
    "# save imdb_id, title for now"
   ]
  },
  {
   "cell_type": "code",
   "execution_count": null,
   "metadata": {},
   "outputs": [],
   "source": [
    "train['budget'] = train['budget'].replace(0, np.nan)\n",
    "test['budget'] = test['budget'].replace(0, np.nan)\n",
    "train['revenue'] = train['revenue'].replace(0, np.nan)"
   ]
  },
  {
   "cell_type": "markdown",
   "metadata": {},
   "source": [
    "## EDA"
   ]
  },
  {
   "cell_type": "code",
   "execution_count": null,
   "metadata": {},
   "outputs": [],
   "source": [
    "train.head(100)"
   ]
  },
  {
   "cell_type": "code",
   "execution_count": null,
   "metadata": {},
   "outputs": [],
   "source": [
    "train.describe()"
   ]
  },
  {
   "cell_type": "code",
   "execution_count": null,
   "metadata": {},
   "outputs": [],
   "source": [
    "train.isna().sum()"
   ]
  },
  {
   "cell_type": "code",
   "execution_count": null,
   "metadata": {},
   "outputs": [],
   "source": [
    "test.isna().sum()"
   ]
  },
  {
   "cell_type": "code",
   "execution_count": null,
   "metadata": {},
   "outputs": [],
   "source": [
    "# introduce new variable: earn_money, try to figure out what cause a movie to lose revenue\n",
    "train['earn_money'] = train['budget'] < train['revenue']"
   ]
  },
  {
   "cell_type": "markdown",
   "metadata": {},
   "source": [
    "### Numerical Variables:"
   ]
  },
  {
   "cell_type": "code",
   "execution_count": null,
   "metadata": {},
   "outputs": [],
   "source": [
    "train[['budget', 'runtime', 'revenue']].corr()"
   ]
  },
  {
   "cell_type": "markdown",
   "metadata": {},
   "source": [
    "We can see that the correlation between revenue and budget is most obvious."
   ]
  },
  {
   "cell_type": "markdown",
   "metadata": {},
   "source": [
    "#### Budget:"
   ]
  },
  {
   "cell_type": "code",
   "execution_count": null,
   "metadata": {},
   "outputs": [],
   "source": [
    "sns.jointplot(x=train['budget'], y=train['revenue'], height=9, ratio=6)"
   ]
  },
  {
   "cell_type": "code",
   "execution_count": null,
   "metadata": {},
   "outputs": [],
   "source": [
    "sns.jointplot(x=train['runtime'], y=train['revenue'], height=9, ratio=6)"
   ]
  },
  {
   "cell_type": "markdown",
   "metadata": {},
   "source": [
    "### Date_released:\n",
    "I found date_released to be an really interesting variable. It can be a lens by which we can discover the trends and patterns of the movie market. Before digging into the dataset, I have these questions in mind:\n",
    "- How do revenues fluctuate along these years?\n",
    "- How do revenues fluctuate between different months of each year? \n",
    "- Do lengths of films change?  "
   ]
  },
  {
   "cell_type": "code",
   "execution_count": null,
   "metadata": {},
   "outputs": [],
   "source": [
    "#Since only last two digits of year are provided, this is the correct way of getting the year.\n",
    "train[['release_month','release_day','release_year']]=train['release_date'].str.split('/',expand=True).replace(np.nan, -1).astype(int)\n",
    "# Some rows have 4 digits of year instead of 2, that's why I am applying (train['release_year'] < 100) this condition\n",
    "train.loc[ (train['release_year'] <= 19) & (train['release_year'] < 100), \"release_year\"] += 2000\n",
    "train.loc[ (train['release_year'] > 19)  & (train['release_year'] < 100), \"release_year\"] += 1900\n",
    "\n",
    "releaseDate = pd.to_datetime(train['release_date']) \n",
    "train['release_dayofweek'] = releaseDate.dt.dayofweek\n",
    "train['release_quarter'] = releaseDate.dt.quarter"
   ]
  },
  {
   "cell_type": "markdown",
   "metadata": {},
   "source": [
    "**A General View:**"
   ]
  },
  {
   "cell_type": "code",
   "execution_count": null,
   "metadata": {},
   "outputs": [],
   "source": [
    "plt.rcParams['figure.figsize'] = [20, 8]\n",
    "\n",
    "avg_rev_by_year = train.groupby('release_year')['revenue'].sum()\n",
    "avg_rev_by_year_plot = sns.barplot(x=avg_rev_by_year.index, y=avg_rev_by_year.values)\n",
    "avg_rev_by_year_plot.set_xticklabels(labels=avg_rev_by_year.index, rotation=90)\n",
    "avg_rev_by_year_plot.set(xlabel='Year', ylabel='Average Revenue', title='Average Revenue by Year, 1921-2017')\n",
    "plt.show()"
   ]
  },
  {
   "cell_type": "markdown",
   "metadata": {},
   "source": [
    "**We can see that there can be huge difference between average revenues between the years. Interestingly, if you take a look at the history of Hollywood,(TODO)**"
   ]
  },
  {
   "cell_type": "code",
   "execution_count": null,
   "metadata": {},
   "outputs": [],
   "source": [
    "num_by_year = train.groupby('release_year')['imdb_id'].count()\n",
    "num_by_year_plot = sns.barplot(x=num_by_year.index, y=num_by_year.values)\n",
    "num_by_year_plot.set_xticklabels(labels=num_by_year.index, rotation=90)\n",
    "num_by_year_plot.set(xlabel='Year', ylabel='Number of Movies Releaed', title='Number of Movies Released by Year, From 1921 To 2017')\n",
    "plt.show()"
   ]
  },
  {
   "cell_type": "markdown",
   "metadata": {},
   "source": [
    "#### Total number of movies released per year increased along the years obviously."
   ]
  },
  {
   "cell_type": "markdown",
   "metadata": {},
   "source": [
    "### Runtime:"
   ]
  },
  {
   "cell_type": "code",
   "execution_count": null,
   "metadata": {},
   "outputs": [],
   "source": [
    "avg_runtime_by_year = train.groupby('release_year')['runtime'].mean()\n",
    "avg_runtime_by_year_plot = sns.barplot(x=avg_runtime_by_year.index, y =avg_runtime_by_year.values)\n",
    "avg_runtime_by_year_plot.set_xticklabels(labels=avg_runtime_by_year.index, rotation=90)\n",
    "avg_runtime_by_year_plot.set(xlabel='Year', ylabel='Average Runtime', title='Average Runtime of Movies, 1921-2017')\n",
    "plt.show()"
   ]
  },
  {
   "cell_type": "markdown",
   "metadata": {},
   "source": [
    "**There no clear trend for the length of movies.**"
   ]
  },
  {
   "cell_type": "markdown",
   "metadata": {},
   "source": [
    "### Revenue by Month / Number of Movies Released by Month: (Release_Date)"
   ]
  },
  {
   "cell_type": "code",
   "execution_count": null,
   "metadata": {},
   "outputs": [],
   "source": [
    "avg_rev_by_month = train.groupby('release_month')['revenue'].mean()\n",
    "avg_rev_by_month_plot = sns.barplot(x= avg_rev_by_month.index, y=avg_rev_by_month.values)\n",
    "avg_rev_by_month_plot.set(xlabel='Month', ylabel='Average Revenue', title='Average Revenues by Month, 1921-2017')"
   ]
  },
  {
   "cell_type": "markdown",
   "metadata": {},
   "source": [
    "#### By observing the average monthly revenues through 1921 to 2017, a trend can be found that average revenues were lowest between Jan to Feb and again Aug to Sept."
   ]
  },
  {
   "cell_type": "code",
   "execution_count": null,
   "metadata": {},
   "outputs": [],
   "source": [
    "df = train[train['release_year'] > 2010]\n",
    "avg_rev_by_year_and_month = df.groupby(['release_year', 'release_month'], as_index=False)['revenue'].mean()\n",
    "avg_rev_by_year_and_month_plot = sns.lineplot(data=avg_rev_by_year_and_month, x='release_month', y='revenue', hue = 'release_year', legend = 'full', palette='Set1')\n",
    "avg_rev_by_year_and_month_plot.set(xlabel='Month', ylabel='Revenue', title='Monthly Average Revenues by Month, 2011-2017')\n",
    "avg_rev_by_year_and_month_plot"
   ]
  },
  {
   "cell_type": "markdown",
   "metadata": {},
   "source": [
    "**The same trend can be found when taking a closer look at monthly average revenues between 2010-2017.**"
   ]
  },
  {
   "cell_type": "code",
   "execution_count": null,
   "metadata": {},
   "outputs": [],
   "source": [
    "num_of_movies_by_year_and_month = df.groupby(['release_year', 'release_month'], as_index=False)['imdb_id'].count()\n",
    "num_of_movies_by_year_and_month_plot = sns.lineplot(data=num_of_movies_by_year_and_month, x='release_month', y='imdb_id', hue='release_year', legend='full', palette='Set1')\n",
    "num_of_movies_by_year_and_month_plot.set(xlabel='Month', ylabel='Number of Movies released', title='Monthly Number of Released Movies, 2011-2017')\n",
    "plt.show()"
   ]
  },
  {
   "cell_type": "markdown",
   "metadata": {},
   "source": [
    "**By contrast, August to October see the most number of movies released when we look at the data from 2011-2017. (The same pattern persists for previous years also.)**"
   ]
  },
  {
   "cell_type": "markdown",
   "metadata": {},
   "source": [
    "\n",
    "**A closer look at this trend is provided below, where we can compare the average revenues with number of releases each year:**"
   ]
  },
  {
   "cell_type": "code",
   "execution_count": null,
   "metadata": {},
   "outputs": [],
   "source": [
    "def display_monthly_avg_rev_by_year(year):\n",
    "    df = train[train['release_year'] == year]\n",
    "    table = df.groupby('release_month')['revenue'].mean()\n",
    "    avg_rev_by_month_plot = sns.barplot(x=table.index, y=table.values)\n",
    "    avg_rev_by_month_plot.set(xlabel='Month', ylabel='Average Revenue', title='Average Revenues by Month in '+ str(year))\n",
    "    plt.show()\n",
    "    \n",
    "def display_monthly_num_of_movies_by_year(year):\n",
    "    df = train[train['release_year'] == year]\n",
    "    table = df.groupby('release_month', as_index=False)['imdb_id'].count()\n",
    "    plot = sns.barplot(data=table, x='release_month', y='imdb_id')\n",
    "    plot.set(xlabel='Month', ylabel='Number of Movies released', title='Number of Released Movies by Month in ' + str(year))\n",
    "    plt.show()\n",
    "\n",
    "def compare_num_with_rev_by_year(year):\n",
    "    display_monthly_avg_rev_by_year(year)\n",
    "    display_monthly_num_of_movies_by_year(year)\n"
   ]
  },
  {
   "cell_type": "code",
   "execution_count": null,
   "metadata": {},
   "outputs": [],
   "source": [
    "compare_num_with_rev_by_year(2010)"
   ]
  },
  {
   "cell_type": "markdown",
   "metadata": {},
   "source": [
    "A trend can be identified by comparing monthly number of movies released and monthly average revenues: they seem to be inversely correlated."
   ]
  },
  {
   "cell_type": "markdown",
   "metadata": {},
   "source": [
    "### Genre:"
   ]
  },
  {
   "cell_type": "code",
   "execution_count": null,
   "metadata": {},
   "outputs": [],
   "source": [
    "def get_dictionary(s):\n",
    "    try:\n",
    "        d = eval(s)\n",
    "    except:\n",
    "        d = {}\n",
    "    return d\n",
    "train = train\n",
    "train['genres'] = train['genres'].map(lambda x: sorted([d['name'] for d in get_dictionary(x)])).map(lambda x: ','.join(map(str, x)))\n",
    "\n",
    "genres = train.genres.str.get_dummies(sep=',')\n",
    "# # train = pd.concat([train, genres], axis=1, sort=False)\n",
    "# print(\"Action:\", train[train['Action'] == 1].shape[0])\n",
    "# print(\"Adventure:\", train[train.Adventure == 1].shape[0])\n",
    "# print(\"Animation:\", train[train.Animation == 1].shape[0])\n",
    "# print(\"Comedy:\", train[train.Comedy == 1].shape[0])\n",
    "# print(\"Crime:\", train[train.Crime == 1].shape[0])\n",
    "# print(\"Documentary:\", train[train.Documentary == 1].shape[0])\n",
    "# print(\"Drama:\", train[train.Drama == 1].shape[0])\n",
    "# print(\"Family:\", train[train.Family == 1].shape[0])\n",
    "# print(\"Fantasy:\", train[train.Fantasy == 1].shape[0])\n",
    "# print(\"Foreign:\", train[train.Foreign == 1].shape[0])\n",
    "# print(\"History:\", train[train.History == 1].shape[0])\n",
    "# print(\"Music:\", train[train.Music == 1].shape[0])\n",
    "# print(\"Mystery \", train[train.Mystery == 1].shape[0])\n",
    "# print(\"Romance\", train[train.Romance == 1].shape[0])\n",
    "# print(\"Science \", train[train['Science Fiction'] == 1].shape[0])\n",
    "# print(\"TV: \", train[train['TV Movie'] == 1].shape[0])\n",
    "# print(\"Thriller: \", train[train.Thriller == 1].shape[0])\n",
    "# print(\"War:\", train[train.War == 1].shape[0])\n",
    "# print(\"Western: \", train[train.Western == 1].shape[0])"
   ]
  },
  {
   "cell_type": "code",
   "execution_count": null,
   "metadata": {},
   "outputs": [],
   "source": [
    "train = pd.concat([train, genres], axis=1, sort=False)\n",
    "genres = train.genres.str.get_dummies(sep=',')\n",
    "genres.columns"
   ]
  },
  {
   "cell_type": "code",
   "execution_count": null,
   "metadata": {},
   "outputs": [],
   "source": [
    "train[train['genres'].str.contains('TV')]"
   ]
  },
  {
   "cell_type": "markdown",
   "metadata": {},
   "source": [
    "**Only one movie has genre 'TV', so I decided to remove this genre.** "
   ]
  },
  {
   "cell_type": "code",
   "execution_count": null,
   "metadata": {},
   "outputs": [],
   "source": [
    "train.loc[train['genres'].str.contains('TV'), 'genres'] = 'Adventure,Drama,Science Fiction'"
   ]
  },
  {
   "cell_type": "markdown",
   "metadata": {},
   "source": [
    "**Compare the revenues between different genres throughout the years:**"
   ]
  },
  {
   "cell_type": "code",
   "execution_count": null,
   "metadata": {},
   "outputs": [],
   "source": [
    "# calculate the total revenue and avg revenue for each genre in each year, in order to plot the animation plot:\n",
    "# colnames: 'genre', 'year', 'avg_rev', 'total_rev', 'num_of_productions'\n",
    "def get_genre_animation_df(dataset, years, genres):\n",
    "    result =[]\n",
    "    for year in years:\n",
    "        df_by_year = dataset[dataset['release_year'] == year]\n",
    "        for genre in genres:\n",
    "            df_by_year_and_genre = df_by_year[df_by_year[genre] == 1]\n",
    "            result.append([year, genre, df_by_year_and_genre['revenue'].mean(), \n",
    "                           df_by_year_and_genre['revenue'].sum(),df_by_year_and_genre.shape[0]])\n",
    "            \n",
    "    return result\n",
    "         "
   ]
  },
  {
   "cell_type": "code",
   "execution_count": null,
   "metadata": {},
   "outputs": [],
   "source": [
    "df = get_genre_animation_df(train, np.arange(1912,2018), genres.columns)\n",
    "genre_animation_plot_df = pd.DataFrame(df, columns=['year', 'genre', 'avg_rev', 'total_rev', 'num_of_productions'])\n",
    "genre_animation_plot_df = genre_animation_plot_df.fillna(0)\n",
    "px.scatter(genre_animation_plot_df, x='avg_rev', y = 'total_rev', animation_frame = 'year',\n",
    "          size = 'num_of_productions', color='genre', hover_name = 'genre',\n",
    "          size_max=55, range_x = [-3e+8, 7e+08], range_y = [-3e+8, 9e+09])"
   ]
  },
  {
   "cell_type": "code",
   "execution_count": null,
   "metadata": {},
   "outputs": [],
   "source": [
    "# Here we count movies multiple times if it has multiple genres\n",
    "def get_unpacked_df_by_genre(dataset, genres):\n",
    "    result = pd.DataFrame(columns=['title', 'genre', 'revenue','budget'])\n",
    "    for genre in genres:\n",
    "        genre_df = dataset[dataset[genre] == 1][['title', 'genres', 'revenue', 'budget']]\n",
    "        genre_df['genres'] = genre\n",
    "        genre_df.columns = ['title', 'genre', 'revenue', 'budget']\n",
    "        result = pd.concat([result, genre_df], ignore_index=True)\n",
    "    return result\n",
    "\n",
    "df_by_genre = get_unpacked_df_by_genre(train, genres.columns)\n",
    "px.box(df_by_genre, x= 'genre', y='revenue')\n",
    "\n",
    "    "
   ]
  },
  {
   "cell_type": "markdown",
   "metadata": {},
   "source": [
    "**As it can be seen from both the animation plot and boxplot, genres like Advenure/Animation/Action/Fantasy are likely to make more revenues, as expected.**"
   ]
  },
  {
   "cell_type": "markdown",
   "metadata": {},
   "source": [
    "### Language:"
   ]
  },
  {
   "cell_type": "markdown",
   "metadata": {},
   "source": [
    "#### Exploring language related variables"
   ]
  },
  {
   "cell_type": "code",
   "execution_count": null,
   "metadata": {},
   "outputs": [],
   "source": [
    "#count\n",
    "[train['original_language'].count(), train['spoken_languages'].count()]"
   ]
  },
  {
   "cell_type": "code",
   "execution_count": null,
   "metadata": {},
   "outputs": [],
   "source": [
    "#NA count\n",
    "[(train['original_language'].isna()).any(),(train['spoken_languages'].isna()).sum()]"
   ]
  },
  {
   "cell_type": "code",
   "execution_count": null,
   "metadata": {},
   "outputs": [],
   "source": [
    "#NaN columns of spoken_languages variable\n",
    "\n",
    "#train['spoken_languages'].index('')\n",
    "#print(train[train[\"spoken_languages\"].isnull()][null_columns])\n",
    "#NaN in train['spoken_languages']\n",
    "train[train['spoken_languages'].isnull()]"
   ]
  },
  {
   "cell_type": "code",
   "execution_count": null,
   "metadata": {},
   "outputs": [],
   "source": [
    "train['original_language'].head(15)"
   ]
  },
  {
   "cell_type": "code",
   "execution_count": null,
   "metadata": {},
   "outputs": [],
   "source": [
    "train['spoken_languages'].head(15)"
   ]
  },
  {
   "cell_type": "code",
   "execution_count": null,
   "metadata": {},
   "outputs": [],
   "source": [
    "#engineering spoken_languages column\n",
    "\n",
    "#train['spoken_languages'].map(lambda x: sorted([d['iso_639_1'] for d in get_dictionary(x)])).map(lambda x: ','.join(map(str,x)))\n",
    "train['spoken_languages_two'] = train['spoken_languages'].map(lambda x: sorted([d['iso_639_1'] for d in get_dictionary(x)]))"
   ]
  },
  {
   "cell_type": "code",
   "execution_count": null,
   "metadata": {},
   "outputs": [],
   "source": [
    "train['spoken_languages_two'].head(15)\n",
    "train['spoken_languages_two'][3]\n",
    "train['spoken_languages_two'][3][1]\n",
    "train['spoken_languages_two'][150] #empty for original NaN"
   ]
  },
  {
   "cell_type": "code",
   "execution_count": null,
   "metadata": {},
   "outputs": [],
   "source": [
    "train['spoken_languages_two'].isna().sum() #0\n",
    "train['spoken_languages_two'].count() #3000"
   ]
  },
  {
   "cell_type": "code",
   "execution_count": null,
   "metadata": {},
   "outputs": [],
   "source": [
    "train['original_language'][1] in train['spoken_languages_two'][1]\n",
    "train['orig_in_spok_language'] = np.array(0)\n",
    "\n",
    "#for i in train['original_language']:\n",
    " #   if (train['original_language'][i] in train['spoken_languages_two'][i] == TRUE):\n",
    "  #      train['orig_in_spok_language'] = 1\n",
    "   # else:\n",
    "    #    train['orig_in_spok_language'] = 0"
   ]
  },
  {
   "cell_type": "code",
   "execution_count": null,
   "metadata": {},
   "outputs": [],
   "source": [
    "index_list = []\n",
    "for idx, row in train.iterrows():\n",
    "    index_list.append(row['original_language'] in row['spoken_languages_two'])\n",
    "\n",
    "index_list #True means the original language is contained in spoken languages\n",
    "len(index_list)"
   ]
  },
  {
   "cell_type": "code",
   "execution_count": null,
   "metadata": {},
   "outputs": [],
   "source": [
    "not_index_list = [not i for i in index_list]\n",
    "not_index_list #reverse of index_list\n",
    "\n",
    "train[not_index_list] #those whose original language is not a part of spoken languages\n",
    "len(train[not_index_list].index)"
   ]
  },
  {
   "cell_type": "code",
   "execution_count": null,
   "metadata": {},
   "outputs": [],
   "source": [
    "#index_list.index(False) #92: first row of the one that is false\n",
    "sum(not_index_list)\n",
    "index_list.count(False)"
   ]
  },
  {
   "cell_type": "markdown",
   "metadata": {},
   "source": [
    "#### Distribution of movies according to original languages usage"
   ]
  },
  {
   "cell_type": "code",
   "execution_count": null,
   "metadata": {},
   "outputs": [],
   "source": [
    "train['original_language'].unique()"
   ]
  },
  {
   "cell_type": "code",
   "execution_count": null,
   "metadata": {},
   "outputs": [],
   "source": [
    "len(train['original_language'].unique())"
   ]
  },
  {
   "cell_type": "code",
   "execution_count": null,
   "metadata": {},
   "outputs": [],
   "source": [
    "#plt.figure(figsize=(20,15))\n",
    "#sns.countplot(train['original_language'].sort_values())#alphabetical order\n",
    "#plt.ylabel('Number of Movies')\n",
    "#plt.xlabel('Original Languages')\n",
    "#plt.title(\"Counts for Original Languages of Movies (alphabetical order)\",fontsize=20)\n",
    "#plt.show()"
   ]
  },
  {
   "cell_type": "code",
   "execution_count": null,
   "metadata": {},
   "outputs": [],
   "source": [
    "train.groupby(['original_language']).original_language.count().nlargest(36) #top 5 of all 36 languages"
   ]
  },
  {
   "cell_type": "code",
   "execution_count": null,
   "metadata": {},
   "outputs": [],
   "source": [
    "#plt.figure(figsize=(20,15))\n",
    "#train_OrigLang=train.groupby(['original_language']).original_language.count().nlargest(36)\n",
    "#bar1=sns.barplot(train_OrigLang.index, train_OrigLang.values,alpha=0.8)\n",
    "\n",
    "#plt.ylabel('Number of Movies')\n",
    "#plt.xlabel('Original Languages')\n",
    "#plt.title(\"Counts for Original Languages of Movies (descending order)\",fontsize=20)\n",
    "#plt.show()"
   ]
  },
  {
   "cell_type": "code",
   "execution_count": null,
   "metadata": {},
   "outputs": [],
   "source": [
    "#y_pos = train['original_language']\n",
    "#performance = train['revenue']\n",
    "\n",
    "#plt.bar(y_pos, performance, align='center', alpha=0.5)\n",
    "#plt.ylabel('Revenue')\n",
    "#plt.title('Revenue of Movies with Different Original Languages')\n",
    "\n",
    "#plt.show()"
   ]
  },
  {
   "cell_type": "code",
   "execution_count": null,
   "metadata": {},
   "outputs": [],
   "source": [
    "train_RevByOrigLang=train.groupby(['original_language']).revenue.mean()\n",
    "train_RevByOrigLang.nlargest(5) "
   ]
  },
  {
   "cell_type": "code",
   "execution_count": null,
   "metadata": {},
   "outputs": [],
   "source": [
    "train_RevByOrigLang=train.groupby(['original_language']).revenue.mean()\n",
    "train_RevByOrigLang=train_RevByOrigLang.nlargest(36) #descending order, 36 original languages in total\n",
    "\n",
    "#plt.figure(figsize=(13,5))\n",
    "bar2=sns.barplot(train_RevByOrigLang.index, train_RevByOrigLang.values,alpha=0.8)\n",
    "#bar2.set_ylim([0,100000000])\n",
    "plt.ylabel(\"Mean Revenue\")\n",
    "plt.title(\"Mean Revenue of Movies with Different Original Languages\")"
   ]
  },
  {
   "cell_type": "markdown",
   "metadata": {},
   "source": [
    "### Cast/Crew"
   ]
  },
  {
   "cell_type": "code",
   "execution_count": null,
   "metadata": {},
   "outputs": [],
   "source": [
    "# TODO: 1. scrape data online to fill in the nan\n",
    "#       2. use average revenue of crew/cast instead of total revenue\n",
    "\n",
    "# skip the rows with no cast/crew info now, substitue with average revenue\n",
    "## construct a list of dictionaries that records the average revenue of each crew/cast member:\n",
    "\n",
    "dataset = train[pd.notnull(train['cast']) & pd.notnull(train['crew'])]\n",
    "dataset['cast'] = dataset['cast'].apply(literal_eval)\n",
    "dataset['crew'] = dataset['crew'].apply(literal_eval)\n",
    "\n",
    "# cast:\n",
    "rev_dict_list = {}\n",
    "for idx, row in dataset.iterrows():\n",
    "    for actor in row['cast']:\n",
    "        if actor['name'] in rev_dict_list:\n",
    "            rev_dict_list[actor['name']] = rev_dict_list[actor['name']] + row['revenue']\n",
    "        else:\n",
    "            rev_dict_list[actor['name']] = row['revenue']\n",
    "\n",
    "for idx, row in dataset.iterrows():\n",
    "    for actor in row['crew']:\n",
    "        if actor['name'] in rev_dict_list:\n",
    "            rev_dict_list[actor['name']] = rev_dict_list[actor['name']] + row['revenue']\n",
    "        else:\n",
    "            rev_dict_list[actor['name']] = row['revenue']"
   ]
  },
  {
   "cell_type": "code",
   "execution_count": null,
   "metadata": {},
   "outputs": [],
   "source": [
    "# calculate accumulated revenue based on all the participants that appear in the dictionary:\n",
    "dataset['total_personnel_rev'] = dataset['cast'].map(lambda x: (rev_dict_list[d['name']] for d in x)).map(sum) + \\\n",
    "                    dataset['crew'].map(lambda x: (rev_dict_list[d['name']] for d in x)).map(sum)\n",
    "\n"
   ]
  },
  {
   "cell_type": "markdown",
   "metadata": {},
   "source": [
    "### Summary for release_year and release_month:\n",
    "1. Revenues are generally low during Jan to Feb, also Aug to Sept. There are called Dump Months, more information can be found at:\n",
    "    - https://www.wikiwand.com/en/Dump_months\n",
    "    - https://web.archive.org/web/20151012234912/http://www.theatlantic.com/entertainment/archive/2012/01/january-dumping-ground-for-terrible-movies-like-contraband/251326/\n",
    "    - https://web.archive.org/web/20150922062108/http://www.avclub.com/article/hollywoods-trash-our-treasure-17-salvageable-flops-91570\n",
    "    "
   ]
  },
  {
   "cell_type": "code",
   "execution_count": null,
   "metadata": {},
   "outputs": [],
   "source": [
    "train['spoken_languages'].head(15)"
   ]
  },
  {
   "cell_type": "code",
   "execution_count": null,
   "metadata": {},
   "outputs": [],
   "source": [
    "country = {'Country': 'China', 'Capital': 'Beijing'}"
   ]
  },
  {
   "cell_type": "markdown",
   "metadata": {},
   "source": [
    "### Production Company"
   ]
  },
  {
   "cell_type": "code",
   "execution_count": null,
   "metadata": {},
   "outputs": [],
   "source": [
    "train['production_companies'].head(10)\n",
    "train['production_companies'][8]"
   ]
  },
  {
   "cell_type": "code",
   "execution_count": null,
   "metadata": {},
   "outputs": [],
   "source": [
    "train['production_companies'].isnull().sum()"
   ]
  },
  {
   "cell_type": "code",
   "execution_count": null,
   "metadata": {},
   "outputs": [],
   "source": [
    "# TODO: use external datasets to fill in the nan in the production_company column\n",
    "train_omit_prod_comp_nan = train[pd.notnull(train['production_companies'])] \n",
    "train_omit_prod_comp_nan['production_companies'] = train_omit_prod_comp_nan['production_companies'].apply(literal_eval)\n",
    "train_omit_prod_comp_nan['production_companies'].head()"
   ]
  },
  {
   "cell_type": "code",
   "execution_count": null,
   "metadata": {},
   "outputs": [],
   "source": [
    "len(train_omit_prod_comp_nan['production_companies'][0])\n",
    "\n",
    "#see how many production companies are there for each movie\n",
    "prod_comp_list = []\n",
    "for idx, row in train_omit_prod_comp_nan.iterrows():\n",
    "    prod_comp_list.append(len(row['production_companies']))\n",
    "\n",
    "#number of prod companies for the movie with the most production companies\n",
    "max(prod_comp_list)"
   ]
  },
  {
   "cell_type": "markdown",
   "metadata": {},
   "source": [
    "#### New variable: number of production companies for each movie"
   ]
  },
  {
   "cell_type": "code",
   "execution_count": null,
   "metadata": {},
   "outputs": [],
   "source": [
    "#add the variable showing the number of production companies for each movie\n",
    "train_omit_prod_comp_nan['production_companies_num']=train_omit_prod_comp_nan['production_companies'].apply(len)\n",
    "train_omit_prod_comp_nan.head(8)"
   ]
  },
  {
   "cell_type": "code",
   "execution_count": null,
   "metadata": {},
   "outputs": [],
   "source": [
    "x = train_omit_prod_comp_nan['production_companies_num']\n",
    "y = train_omit_prod_comp_nan['revenue']\n",
    "\n",
    "#plt.scatter(x, y, s=area, c=colors, alpha=0.5)\n",
    "plt.scatter(x, y, alpha=0.5)\n",
    "plt.title('Revenue by Number of Production Companies')\n",
    "plt.xlabel('Number of Production Companies')\n",
    "plt.ylabel('Revenue')\n",
    "plt.show()\n"
   ]
  },
  {
   "cell_type": "code",
   "execution_count": null,
   "metadata": {},
   "outputs": [],
   "source": [
    "#creating the dataframe of x and y\n",
    "x = train_omit_prod_comp_nan['production_companies_num']\n",
    "y = train_omit_prod_comp_nan['revenue']\n",
    "df_prod_comp_rev = pd.DataFrame(data=[x,y])\n",
    "df_prod_comp_rev = df_prod_comp_rev.T #transposesns.pairplot(df_prod_comp_rev)\n",
    "df_prod_comp_rev.head()\n",
    "# import seaborn as sns\n",
    "#correlation matrix: useless\n",
    "# f, ax = plt.subplots(figsize=(10, 8))\n",
    "# corr = df_prod_comp_rev.corr()\n",
    "# sns.heatmap(corr, mask=np.zeros_like(corr, dtype=np.bool), cmap=sns.diverging_palette(220, 10, as_cmap=True),\n",
    "#             square=True, ax=ax)"
   ]
  },
  {
   "cell_type": "code",
   "execution_count": null,
   "metadata": {},
   "outputs": [],
   "source": [
    "# boxplot of Revenue by Number of Production Companies\n",
    "\n",
    "# library\n",
    "import seaborn as sns, numpy as np\n",
    " \n",
    "ax = sns.boxplot(x=df_prod_comp_rev[\"production_companies_num\"], y=df_prod_comp_rev[\"revenue\"], linewidth=2 )\n",
    "ax = sns.stripplot(x='production_companies_num', y='revenue', data=df_prod_comp_rev, color=\"orange\", jitter=0.3, size=2.5)\n",
    "\n",
    "# Calculate number of obs per group & median to position labels\n",
    "medians = df_prod_comp_rev.groupby(['production_companies_num'])['revenue'].median().values\n",
    "# medians = [str(x) for x in medians.tolist()]\n",
    "# medians = [\"median: \" + i for i in medians]\n",
    "nobs = df_prod_comp_rev['production_companies_num'].value_counts().values\n",
    "nobs = [str(x) for x in nobs.tolist()]\n",
    "nobs = [\"n = \" + i for i in nobs]\n",
    " \n",
    "# Add it to the plot\n",
    "pos = range(len(nobs))\n",
    "for tick,label in zip(pos,ax.get_xticklabels()):\n",
    "    ax.text(pos[tick], medians[tick] + 0.03, nobs[tick], horizontalalignment='center', size='small', color='w', weight='semibold')"
   ]
  },
  {
   "cell_type": "code",
   "execution_count": null,
   "metadata": {},
   "outputs": [],
   "source": [
    "train.columns"
   ]
  },
  {
   "cell_type": "code",
   "execution_count": null,
   "metadata": {},
   "outputs": [],
   "source": [
    "df_prod_comp_rev.corr()"
   ]
  },
  {
   "cell_type": "markdown",
   "metadata": {},
   "source": [
    "#### New metrics:"
   ]
  },
  {
   "cell_type": "code",
   "execution_count": null,
   "metadata": {},
   "outputs": [],
   "source": []
  },
  {
   "cell_type": "markdown",
   "metadata": {},
   "source": [
    "### Categorical Variables:"
   ]
  },
  {
   "cell_type": "markdown",
   "metadata": {},
   "source": [
    "#### Original Language:"
   ]
  },
  {
   "cell_type": "code",
   "execution_count": null,
   "metadata": {},
   "outputs": [],
   "source": []
  }
 ],
 "metadata": {
  "kernelspec": {
   "display_name": "Python 3",
   "language": "python",
   "name": "python3"
  },
  "language_info": {
   "codemirror_mode": {
    "name": "ipython",
    "version": 3
   },
   "file_extension": ".py",
   "mimetype": "text/x-python",
   "name": "python",
   "nbconvert_exporter": "python",
   "pygments_lexer": "ipython3",
   "version": "3.7.3"
  },
  "toc": {
   "base_numbering": 1,
   "nav_menu": {
    "height": "450px",
    "width": "476px"
   },
   "number_sections": true,
   "sideBar": true,
   "skip_h1_title": false,
   "title_cell": "Table of Contents",
   "title_sidebar": "Contents",
   "toc_cell": false,
   "toc_position": {},
   "toc_section_display": true,
   "toc_window_display": false
  }
 },
 "nbformat": 4,
 "nbformat_minor": 2
}
